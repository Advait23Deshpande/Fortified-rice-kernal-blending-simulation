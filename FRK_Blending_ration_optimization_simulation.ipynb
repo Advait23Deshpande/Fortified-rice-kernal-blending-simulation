{
  "nbformat": 4,
  "nbformat_minor": 0,
  "metadata": {
    "colab": {
      "provenance": [],
      "authorship_tag": "ABX9TyMiKguNqEAziYwWYVxumOAo",
      "include_colab_link": true
    },
    "kernelspec": {
      "name": "python3",
      "display_name": "Python 3"
    },
    "language_info": {
      "name": "python"
    }
  },
  "cells": [
    {
      "cell_type": "markdown",
      "metadata": {
        "id": "view-in-github",
        "colab_type": "text"
      },
      "source": [
        "<a href=\"https://colab.research.google.com/github/Advait23Deshpande/Fortified-rice-kernal-blending-simulation/blob/main/FRK_Blending_ration_optimization_simulation.ipynb\" target=\"_parent\"><img src=\"https://colab.research.google.com/assets/colab-badge.svg\" alt=\"Open In Colab\"/></a>"
      ]
    },
    {
      "cell_type": "code",
      "execution_count": null,
      "metadata": {
        "id": "-m3FEYLaAplh"
      },
      "outputs": [],
      "source": [
        "import random"
      ]
    },
    {
      "cell_type": "code",
      "source": [
        "# Set the desired blending ratio\n",
        "desired_ratio = 1/100"
      ],
      "metadata": {
        "id": "mx35gBjmAxU0"
      },
      "execution_count": null,
      "outputs": []
    },
    {
      "cell_type": "code",
      "source": [
        "# Set the tolerance of blending ratio\n",
        "tolerance = 0.01"
      ],
      "metadata": {
        "id": "CkN9PeWkAxhq"
      },
      "execution_count": null,
      "outputs": []
    },
    {
      "cell_type": "code",
      "source": [
        "# Set the range of mixing speed in RPM\n",
        "min_speed = 100\n",
        "max_speed = 200"
      ],
      "metadata": {
        "id": "-SnkQIeIAxk1"
      },
      "execution_count": null,
      "outputs": []
    },
    {
      "cell_type": "code",
      "source": [
        "# Set the batch size in tonnes\n",
        "batch_size = 10"
      ],
      "metadata": {
        "id": "wfapOVMiAxoP"
      },
      "execution_count": null,
      "outputs": []
    },
    {
      "cell_type": "code",
      "source": [
        "# Define a function to calculate the actual blending ratio based on mixing speed\n",
        "def calculate_ratio(mixing_speed):\n",
        "    # Set the number of fortified rice kernels and regular rice kernels in the batch\n",
        "    num_fortified = int(batch_size * desired_ratio)\n",
        "    num_regular = batch_size - num_fortified\n",
        "\n",
        "    # Mix the kernels at the specified speed\n",
        "    mixed_batch = [random.uniform(0,1) for i in range(batch_size)]\n",
        "    for i in range(mixing_speed):\n",
        "        random.shuffle(mixed_batch)\n",
        "\n",
        "    # Count the number of fortified rice kernels and regular rice kernels in the mixed batch\n",
        "    num_fortified_mixed = mixed_batch.count(1)\n",
        "    num_regular_mixed = mixed_batch.count(0)\n",
        "\n",
        "    # Calculate the actual blending ratio\n",
        "    actual_ratio = num_fortified_mixed / (num_fortified_mixed + num_regular_mixed)\n",
        "\n",
        "    return actual_ratio"
      ],
      "metadata": {
        "id": "5wuhJt1bAxrp"
      },
      "execution_count": null,
      "outputs": []
    },
    {
      "cell_type": "code",
      "source": [
        "# Define a function to find the optimal mixing speed that achieves the desired blending ratio\n",
        "def find_optimal_speed():\n",
        "    # Set the initial range of mixing speed to search\n",
        "    search_range = list(range(min_speed, max_speed+1))\n",
        "\n",
        "    # Iterate through the search range to find the optimal mixing speed\n",
        "    while len(search_range) > 1:\n",
        "        # Select a random mixing speed from the current search range\n",
        "        mixing_speed = random.choice(search_range)\n",
        "\n",
        "        # Calculate the actual blending ratio at the selected mixing speed\n",
        "        actual_ratio = calculate_ratio(mixing_speed)\n",
        "\n",
        "        # Check if the actual blending ratio is within the desired tolerance range\n",
        "        if abs(actual_ratio - desired_ratio) <= tolerance:\n",
        "            return mixing_speed\n",
        "\n",
        "        # If the actual blending ratio is too low, remove the lower half of the search range\n",
        "        elif actual_ratio < desired_ratio:\n",
        "            search_range = [i for i in search_range if i > mixing_speed]\n",
        "\n",
        "        # If the actual blending ratio is too high, remove the upper half of the search range\n",
        "        else:\n",
        "            search_range = [i for i in search_range if i < mixing_speed]\n",
        "\n",
        "    # If no optimal mixing speed is found within the search range, return None\n",
        "    return None"
      ],
      "metadata": {
        "id": "0yzAGv4CA80b"
      },
      "execution_count": null,
      "outputs": []
    },
    {
      "cell_type": "code",
      "source": [
        "# Call the find_optimal_speed() function to find the optimal mixing speed\n",
        "optimal_speed = find_optimal_speed()"
      ],
      "metadata": {
        "id": "uT_uFlY2A83j"
      },
      "execution_count": null,
      "outputs": []
    },
    {
      "cell_type": "code",
      "source": [
        "# Print the optimal mixing speed if found, or a message if no optimal speed is found\n",
        "if optimal_speed:\n",
        "    print(\"The optimal mixing speed is:\", optimal_speed, \"RPM\")\n",
        "else:\n",
        "    print(\"No optimal mixing speed found within the specified range.\")"
      ],
      "metadata": {
        "id": "mHnKCLSiA866"
      },
      "execution_count": null,
      "outputs": []
    },
    {
      "cell_type": "code",
      "source": [],
      "metadata": {
        "id": "fWBf6rENA9JU"
      },
      "execution_count": null,
      "outputs": []
    }
  ]
}